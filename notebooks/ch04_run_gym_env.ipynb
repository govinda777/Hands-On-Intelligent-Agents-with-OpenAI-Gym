{
 "cells": [
  {
   "cell_type": "markdown",
   "metadata": {},
   "source": [
    "# Run a Gym environment\n",
    "\n",
    "This notebook contains the code from `ch4/run_gym_env.py`.\n",
    "\n",
    "This script runs a given Gym environment for a specified number of steps with random actions."
   ]
  },
  {
   "cell_type": "code",
   "execution_count": null,
   "metadata": {},
   "outputs": [],
   "source": [
    "import gym\n",
    "\n",
    "# Change these to the name of the environment and number of steps you want to run\n",
    "env_name = 'CartPole-v0'\n",
    "num_steps = 500\n",
    "\n",
    "def run_gym_env(env_name, num_steps):\n",
    "    env = gym.make(env_name)\n",
    "    env.reset()\n",
    "    for _ in range(num_steps):\n",
    "        env.render()\n",
    "        env.step(env.action_space.sample())\n",
    "    env.close()\n",
    "\n",
    "run_gym_env(env_name, num_steps)"
   ]
  }
 ],
 "metadata": {
  "kernelspec": {
   "display_name": "Python 3",
   "language": "python",
   "name": "python3"
  },
  "language_info": {
   "name": "python"
  }
 },
 "nbformat": 4,
 "nbformat_minor": 4
}
