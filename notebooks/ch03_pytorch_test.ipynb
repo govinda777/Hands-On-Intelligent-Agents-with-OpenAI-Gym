{
 "cells": [
  {
   "cell_type": "markdown",
   "metadata": {},
   "source": [
    "# Test PyTorch Installation\n",
    "\n",
    "This notebook contains the code from `ch3/pytorch_test.py`.\n",
    "\n",
    "It's a simple script to test if PyTorch installation is successful. It creates a 3x3 tensor and prints it."
   ]
  },
  {
   "cell_type": "code",
   "execution_count": null,
   "metadata": {},
   "outputs": [],
   "source": [
    "import torch\n",
    "t = torch.Tensor(3,3)\n",
    "print(t)"
   ]
  }
 ],
 "metadata": {
  "kernelspec": {
   "display_name": "Python 3",
   "language": "python",
   "name": "python3"
  },
  "language_info": {
   "name": "python"
  }
 },
 "nbformat": 4,
 "nbformat_minor": 4
}
