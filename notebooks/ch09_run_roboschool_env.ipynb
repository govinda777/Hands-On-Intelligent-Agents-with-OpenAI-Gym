{
 "cells": [
  {
   "cell_type": "code",
   "execution_count": null,
   "metadata": {},
   "outputs": [],
   "source": [
    "#!/usr/bin/env/ python\n",
    "# Script to run a random-acting agent in Roboschool environments\n",
    "# Chapter 9, Hands-on Intelligent Agents with OpenAI Gym | Praveen Palanisamy\n",
    "\n",
    "from argparse import ArgumentParser\n",
    "from OpenGL import GLU  # Temporary fix for roboschool issue #8\n",
    "import roboschool\n",
    "import gym\n",
    "\n",
    "# --- Notebook Configuration ---\n",
    "class Args:\n",
    "    env = 'RoboschoolInvertedPendulum-v1'\n",
    "\n",
    "args = Args()\n",
    "# ------------------------------\n",
    "\n",
    "try:\n",
    "    env = gym.make(args.env)\n",
    "    # The Monitor wrapper is used to record videos of the agent's performance.\n",
    "    # Note: Rendering might not work in all cloud notebook environments.\n",
    "    env = gym.wrappers.Monitor(env, \"./roboschool_clips/\" + args.env,\n",
    "                               video_callable=lambda episode_id: True,\n",
    "                               force=True)  # Rewrite prev recorded files if present\n",
    "    print(\"Observation Space:\", env.observation_space)\n",
    "    print(\"Action Space:\", env.action_space)\n",
    "\n",
    "    for episode in range(3):  # Run 3 episodes\n",
    "        done = False\n",
    "        obs = env.reset()\n",
    "        print(f\"\\nStarting Episode {episode + 1}\")\n",
    "        step = 0\n",
    "        while not done:\n",
    "            # Take a random action\n",
    "            action = env.action_space.sample()\n",
    "            obs, reward, done, info = env.step(action)\n",
    "            step += 1\n",
    "            # env.render() # Rendering is often disabled in notebooks\n",
    "        print(f\"Episode finished after {step} steps.\")\n",
    "    env.close()\n",
    "except Exception as e:\n",
    "    print(f\"An error occurred. Roboschool might not be installed or configured correctly.\")\n",
    "    print(e)"
   ]
  }
 ],
 "metadata": {
  "kernelspec": {
   "display_name": "Python 3",
   "language": "python",
   "name": "python3"
  },
  "language_info": {
   "codemirror_mode": {
    "name": "ipython",
    "version": 3
   },
   "file_extension": ".py",
   "mimetype": "text/x-python",
   "name": "python",
   "nbconvert_exporter": "python",
   "pygments_lexer": "ipython3",
   "version": "3.7.6"
  }
 },
 "nbformat": 4,
 "nbformat_minor": 4
}
