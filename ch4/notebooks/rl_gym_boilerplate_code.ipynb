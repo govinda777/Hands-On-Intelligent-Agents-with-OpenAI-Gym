{
 "cells": [
  {
   "cell_type": "markdown",
   "metadata": {},
   "source": [
    "# Boilerplate code for Reinforcement Learning with Gym\n",
    "\n",
    "This notebook contains the code from `ch4/rl_gym_boilerplate_code.py`.\n",
    "\n",
    "This script is a boilerplate for running a reinforcement learning agent in a Gym environment. It runs a specified number of episodes and steps, taking random actions."
   ]
  },
  {
   "cell_type": "code",
   "execution_count": null,
   "metadata": {},
   "outputs": [],
   "source": [
    "import gym\n",
    "env = gym.make(\"Qbert-v0\")\n",
    "MAX_NUM_EPISODES = 10\n",
    "MAX_STEPS_PER_EPISODE = 500\n",
    "for episode in range(MAX_NUM_EPISODES):\n",
    "    obs = env.reset()\n",
    "    for step in range(MAX_STEPS_PER_EPISODE):\n",
    "        env.render()\n",
    "        action = env.action_space.sample()# Sample random action. This will be replaced by our agent's action when we start developing the agent algorithms\n",
    "        next_state, reward, done, info = env.step(action) # Send the action to the environment and receive the next_state, reward and whether done or not\n",
    "        obs = next_state\n",
    "\n",
    "        if done is True:\n",
    "            print(\"\\n Episode #{} ended in {} steps.\".format(episode, step+1))\n",
    "            break"
   ]
  }
 ],
 "metadata": {
  "kernelspec": {
   "display_name": "Python 3",
   "language": "python",
   "name": "python3"
  },
  "language_info": {
   "name": "python"
  }
 },
 "nbformat": 4,
 "nbformat_minor": 4
}
