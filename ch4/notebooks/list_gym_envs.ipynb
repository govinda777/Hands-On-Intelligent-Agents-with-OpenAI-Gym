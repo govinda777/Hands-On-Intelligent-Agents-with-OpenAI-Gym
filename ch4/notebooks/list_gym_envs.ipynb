{
 "cells": [
  {
   "cell_type": "markdown",
   "metadata": {},
   "source": [
    "# List all available Gym environments\n",
    "\n",
    "This notebook contains the code from `ch4/list_gym_envs.py`.\n",
    "\n",
    "It's a handy script for listing all available Gym environments."
   ]
  },
  {
   "cell_type": "code",
   "execution_count": null,
   "metadata": {},
   "outputs": [],
   "source": [
    "from gym import envs\n",
    "env_names = [spec.id for spec in envs.registry.all()]\n",
    "for name in sorted(env_names):\n",
    "    print(name)"
   ]
  }
 ],
 "metadata": {
  "kernelspec": {
   "display_name": "Python 3",
   "language": "python",
   "name": "python3"
  },
  "language_info": {
   "name": "python"
  }
 },
 "nbformat": 4,
 "nbformat_minor": 4
}
