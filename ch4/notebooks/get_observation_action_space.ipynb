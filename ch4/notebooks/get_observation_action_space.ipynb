{
 "cells": [
  {
   "cell_type": "markdown",
   "metadata": {},
   "source": [
    "# Explore Gym environment's observation and action spaces\n",
    "\n",
    "This notebook contains the code from `ch4/get_observation_action_space.py`.\n",
    "\n",
    "It's a handy script for exploring Gym environment's observation and action spaces. It prints the observation and action space of a given Gym environment. It also prints the meaning of actions if available."
   ]
  },
  {
   "cell_type": "code",
   "execution_count": null,
   "metadata": {},
   "outputs": [],
   "source": [
    "import gym\n",
    "from gym.spaces import *\n",
    "\n",
    "# Change this to the name of the environment you want to inspect\n",
    "env_name = 'CartPole-v0'\n",
    "\n",
    "def print_spaces(space):\n",
    "    print(space)\n",
    "    if isinstance(space, Box): # Print lower and upper bound if it's a Box space\n",
    "        print(\"\\n space.low: \", space.low)\n",
    "        print(\"\\n space.high: \", space.high)\n",
    "\n",
    "env = gym.make(env_name)\n",
    "print(\"Observation Space:\")\n",
    "print_spaces(env.observation_space)\n",
    "print(\"Action Space:\")\n",
    "print_spaces(env.action_space)\n",
    "try:\n",
    "    print(\"Action description/meaning:\",env.unwrapped.get_action_meanings())\n",
    "except AttributeError:\n",
    "    pass"
   ]
  }
 ],
 "metadata": {
  "kernelspec": {
   "display_name": "Python 3",
   "language": "python",
   "name": "python3"
  },
  "language_info": {
   "name": "python"
  }
 },
 "nbformat": 4,
 "nbformat_minor": 4
}
