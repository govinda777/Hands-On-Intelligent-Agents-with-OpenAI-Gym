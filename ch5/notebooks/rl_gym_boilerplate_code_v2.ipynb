{
 "cells": [
  {
   "cell_type": "markdown",
   "metadata": {},
   "source": [
    "# Boilerplate code for Reinforcement Learning with Gym (v2)\n",
    "\n",
    "This notebook contains the code from `ch5/rl_gym_boilerplate_code_v2.py`.\n",
    "\n",
    "This script is a boilerplate for running a reinforcement learning agent in a Gym environment. It runs the `MountainCar-v0` environment for a specified number of episodes, taking random actions."
   ]
  },
  {
   "cell_type": "code",
   "execution_count": null,
   "metadata": {},
   "outputs": [],
   "source": [
    "import gym\n",
    "env = gym.make(\"MountainCar-v0\")\n",
    "MAX_NUM_EPISODES = 5000\n",
    "\n",
    "for episode in range(MAX_NUM_EPISODES):\n",
    "    done = False\n",
    "    obs = env.reset()\n",
    "    total_reward = 0.0 # To keep track of the total reward obtained in each episode\n",
    "    step = 0\n",
    "    while not done:\n",
    "        env.render()\n",
    "        action = env.action_space.sample()# Sample random action. This will be replaced by our agent's action when we start developing the agent algorithms\n",
    "        next_state, reward, done, info = env.step(action) # Send the action to the environment and receive the next_state, reward and whether done or not\n",
    "        total_reward += reward\n",
    "        step += 1\n",
    "        obs = next_state\n",
    "\n",
    "    print(\"\\n Episode #{} ended in {} steps. total_reward={}\".format(episode, step+1, total_reward))\n",
    "env.close()"
   ]
  }
 ],
 "metadata": {
  "kernelspec": {
   "display_name": "Python 3",
   "language": "python",
   "name": "python3"
  },
  "language_info": {
   "name": "python"
  }
 },
 "nbformat": 4,
 "nbformat_minor": 4
}
