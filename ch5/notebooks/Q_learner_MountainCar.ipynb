{
 "cells": [
  {
   "cell_type": "markdown",
   "metadata": {},
   "source": [
    "# Q-learning agent for the Mountain Car problem\n",
    "\n",
    "This notebook contains the code from `ch5/Q_learner_MountainCar.py`.\n",
    "\n",
    "It's an easy-to-follow script to train, test and evaluate a Q-learning agent on the Mountain Car problem using the OpenAI Gym."
   ]
  },
  {
   "cell_type": "markdown",
   "metadata": {},
   "source": [
    "## Imports and constants"
   ]
  },
  {
   "cell_type": "code",
   "execution_count": null,
   "metadata": {},
   "outputs": [],
   "source": [
    "import gym\n",
    "import numpy as np\n",
    "\n",
    "MAX_NUM_EPISODES = 50000\n",
    "STEPS_PER_EPISODE = 200 #  This is specific to MountainCar. May change with env\n",
    "EPSILON_MIN = 0.005\n",
    "max_num_steps = MAX_NUM_EPISODES * STEPS_PER_EPISODE\n",
    "EPSILON_DECAY = 500 * EPSILON_MIN / max_num_steps\n",
    "ALPHA = 0.05  # Learning rate\n",
    "GAMMA = 0.98  # Discount factor\n",
    "NUM_DISCRETE_BINS = 30  # Number of bins to Discretize each observation dim"
   ]
  },
  {
   "cell_type": "markdown",
   "metadata": {},
   "source": [
    "## Q_Learner class"
   ]
  },
  {
   "cell_type": "code",
   "execution_count": null,
   "metadata": {},
   "outputs": [],
   "source": [
    "class Q_Learner(object):\n",
    "    def __init__(self, env):\n",
    "        self.obs_shape = env.observation_space.shape\n",
    "        self.obs_high = env.observation_space.high\n",
    "        self.obs_low = env.observation_space.low\n",
    "        self.obs_bins = NUM_DISCRETE_BINS  # Number of bins to Discretize each observation dim\n",
    "        self.bin_width = (self.obs_high - self.obs_low) / self.obs_bins\n",
    "        self.action_shape = env.action_space.n\n",
    "        # Create a multi-dimensional array (aka. Table) to represent the\n",
    "        # Q-values\n",
    "        self.Q = np.zeros((self.obs_bins + 1, self.obs_bins + 1,\n",
    "                           self.action_shape))  # (51 x 51 x 3)\n",
    "        self.alpha = ALPHA  # Learning rate\n",
    "        self.gamma = GAMMA  # Discount factor\n",
    "        self.epsilon = 1.0\n",
    "\n",
    "    def discretize(self, obs):\n",
    "        return tuple(((obs - self.obs_low) / self.bin_width).astype(int))\n",
    "\n",
    "    def get_action(self, obs):\n",
    "        discretized_obs = self.discretize(obs)\n",
    "        # Epsilon-Greedy action selection\n",
    "        if self.epsilon > EPSILON_MIN:\n",
    "            self.epsilon -= EPSILON_DECAY\n",
    "        if np.random.random() > self.epsilon:\n",
    "            return np.argmax(self.Q[discretized_obs])\n",
    "        else:  # Choose a random action\n",
    "            return np.random.choice([a for a in range(self.action_shape)])\n",
    "\n",
    "    def learn(self, obs, action, reward, next_obs):\n",
    "        discretized_obs = self.discretize(obs)\n",
    "        discretized_next_obs = self.discretize(next_obs)\n",
    "        td_target = reward + self.gamma * np.max(self.Q[discretized_next_obs])\n",
    "        td_error = td_target - self.Q[discretized_obs][action]\n",
    "        self.Q[discretized_obs][action] += self.alpha * td_error"
   ]
  },
  {
   "cell_type": "markdown",
   "metadata": {},
   "source": [
    "## Training function"
   ]
  },
  {
   "cell_type": "code",
   "execution_count": null,
   "metadata": {},
   "outputs": [],
   "source": [
    "def train(agent, env):\n",
    "    best_reward = -float('inf')\n",
    "    for episode in range(MAX_NUM_EPISODES):\n",
    "        done = False\n",
    "        obs = env.reset()\n",
    "        total_reward = 0.0\n",
    "        while not done:\n",
    "            action = agent.get_action(obs)\n",
    "            next_obs, reward, done, info = env.step(action)\n",
    "            agent.learn(obs, action, reward, next_obs)\n",
    "            obs = next_obs\n",
    "            total_reward += reward\n",
    "        if total_reward > best_reward:\n",
    "            best_reward = total_reward\n",
    "        print(\"Episode#:{} reward:{} best_reward:{} eps:{}\".format(episode,\n",
    "                                     total_reward, best_reward, agent.epsilon))\n",
    "    # Return the trained policy\n",
    "    return np.argmax(agent.Q, axis=2)"
   ]
  },
  {
   "cell_type": "markdown",
   "metadata": {},
   "source": [
    "## Testing function"
   ]
  },
  {
   "cell_type": "code",
   "execution_count": null,
   "metadata": {},
   "outputs": [],
   "source": [
    "def test(agent, env, policy):\n",
    "    done = False\n",
    "    obs = env.reset()\n",
    "    total_reward = 0.0\n",
    "    while not done:\n",
    "        action = policy[agent.discretize(obs)]\n",
    "        next_obs, reward, done, info = env.step(action)\n",
    "        obs = next_obs\n",
    "        total_reward += reward\n",
    "    return total_reward"
   ]
  },
  {
   "cell_type": "markdown",
   "metadata": {},
   "source": [
    "## Main execution block"
   ]
  },
  {
   "cell_type": "code",
   "execution_count": null,
   "metadata": {},
   "outputs": [],
   "source": [
    "env = gym.make('MountainCar-v0')\n",
    "agent = Q_Learner(env)\n",
    "learned_policy = train(agent, env)\n",
    "# Use the Gym Monitor wrapper to evalaute the agent and record video\n",
    "gym_monitor_path = \"./gym_monitor_output\"\n",
    "env = gym.wrappers.Monitor(env, gym_monitor_path, force=True)\n",
    "for _ in range(1000):\n",
    "    test(agent, env, learned_policy)\n",
    "env.close()"
   ]
  }
 ],
 "metadata": {
  "kernelspec": {
   "display_name": "Python 3",
   "language": "python",
   "name": "python3"
  },
  "language_info": {
   "name": "python"
  }
 },
 "nbformat": 4,
 "nbformat_minor": 4
}
